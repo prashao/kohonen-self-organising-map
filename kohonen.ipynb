{
 "cells": [
  {
   "cell_type": "markdown",
   "metadata": {},
   "source": [
    "# Self Organising Map Challenge\n",
    "\n",
    "## The Kohonen Network\n",
    "\n",
    "The Kohonen Self Organizing Map (SOM) provides a data visualization technique which helps to understand high dimensional data by reducing the dimensions of data to a map. SOM also represents clustering concept by grouping similar data together.\n",
    "\n",
    "Unlike other learning technique in neural networks, training a SOM requires no target vector. A SOM learns to classify the training data without any external supervision.\n",
    "\n",
    "![Network](http://www.pitt.edu/~is2470pb/Spring05/FinalProjects/Group1a/tutorial/kohonen1.gif)\n",
    "\n",
    "### Structure\n",
    "A network has a width and a height that descibes the grid of nodes.  For example, the grid may be 4x4, and so there would be 16 nodes.\n",
    "\n",
    "Each node has a weight for each value in the input vector.  A weight is simply a float value that the node multiplies the input value by to determine how influential it is (see below)\n",
    "\n",
    "Each node has a set of weights that match the size of the input vector.  For example, if the input vector has 10 elements, each node would have 10 weights.\n",
    "\n",
    "### Training \n",
    "To train the network\n",
    "\n",
    "1. Each node's weights are initialized.\n",
    "2. We enumerate through the training data for some number of iterations (repeating if necessary).  The current value we are training against will be referred to as the `current input vector`\n",
    "3. Every node is examined to calculate which one's weights are most like the input vector. The winning node is commonly known as the Best Matching Unit (BMU).\n",
    "4. The radius of the neighbourhood of the BMU is now calculated. This is a value that starts large, typically set to the 'radius' of the lattice,  but diminishes each time-step. Any nodes found within this radius are deemed to be inside the BMU's neighbourhood.\n",
    "5. Each neighbouring node's (the nodes found in step 4) weights are adjusted to make them more like the input vector. The closer a node is to the BMU, the more its weights get altered.\n",
    "6. Go to step 2 until we've completed N iterations.\n",
    "    \n",
    "\n",
    "### Calculating the Best Matching Unit (BMU)\n",
    "\n",
    "To determine the best matching unit, one method is to iterate through all the nodes and calculate the Euclidean distance between each node's weight vector and the current input vector. The node with a weight vector closest to the input vector is tagged as the BMU.\n",
    "\n",
    "The Euclidean distance $\\mathsf{distance}_{i}$ (from the input vector $V$ to the $i$th node's weights $W_i$)is given as (using Pythagoras):\n",
    "\n",
    "$$ \\mathsf{distance}_{i}=\\sqrt{\\sum_{k=0}^{k=n}(V_k - W_{i_k})^2}$$\n",
    "\n",
    "where V is the current input vector and $W_i$ is the node's weight vector.  $n$ is the size of the input & weight vector.\n",
    "\n",
    "*Note*: $V$ and $W$ are vectors.  $V$ is the input vector, and $W_i$ is the weight vector of the $i$th node.  $V_k$ and $W_{i_k}$ represent the $k$'th value within those vectors.  \n",
    "\n",
    "The BMU is the node with the minimal distance for the current input vector\n",
    "\n",
    "### Calculating the Neighbourhood Radius\n",
    "\n",
    "The next step is to calculate which of the other nodes are within the BMU's neighbourhood. All these nodes will have their weight vectors altered.\n",
    "\n",
    "First we calculate what the radius of the neighbourhood should be and then use Pythagoras to determine if each node is within the radial distance or not.\n",
    "\n",
    "A unique feature of the Kohonen learning algorithm is that the area of the neighbourhood shrinks over time. To do this we use the exponential decay function:\n",
    "\n",
    "Given a desired number of training iterations $n$:\n",
    "$$n_{\\mathsf{max iterations}} = 100$$\n",
    "\n",
    "Calculate the radius $\\sigma_t$ at iteration number $t$:\n",
    "\n",
    "$$\\sigma_t = \\sigma_0 \\exp\\left(- \\frac{t}{\\lambda} \\right) \\qquad t = 1,2,3,4... $$\n",
    "\n",
    "Where $\\sigma_0$ denotes the neighbourhood radius at iteration $t=0$, $t$ is the current iteration. We define $\\sigma_0$ (the initial radius) and $\\lambda$ (the time constant) as below:\n",
    "\n",
    "$$\\sigma_0 = \\frac{\\max(width,height)}{2} \\qquad \\lambda = \\frac{n_{\\mathsf{max iterations}}}{\\log(\\sigma_0)} $$\n",
    "\n",
    "Where $width$ & $height$ are the width and height of the grid.\n",
    "\n",
    "### Calculating the Learning Rate\n",
    "\n",
    "We define the initial leanring rate $\\alpha_0$ at iteration $t = 0$ as:\n",
    "$$\\alpha_0 = 0.1$$\n",
    "\n",
    "So, we can calculate the learning rate at a given iteration t as:\n",
    "\n",
    "$$\\alpha_t = \\alpha_0 \\exp \\left(- \\frac{t}{\\lambda} \\right) $$\n",
    "\n",
    "where $t$ is the iteration number, $\\lambda$ is the time constant (calculated above)\n",
    "        \n",
    "### Calculating the Influence\n",
    "\n",
    "As well as the learning rate, we need to calculate the influence $\\theta_t$ of the learning/training at a given iteration $t$.  \n",
    "\n",
    "So for each node, we need to caclulate the euclidean distance $d_i$ from the BMU to that node.  Similar to when we calculate the distance to find the BMU, we use Pythagoras.  The current ($i$th) node's x position is given by $x(W_i)$, and the BMU's x position is, likewise, given by $x(Z)$.  Similarly, $y()$ returns the y position of a node.\n",
    "\n",
    "$$ d_{i}=\\sqrt{(x(W_i) - x(Z))^2 + (y(W_i) - y(Z))^2} $$\n",
    "\n",
    "Then, the influence decays over time according to:\n",
    "\n",
    "$$\\theta_t = \\exp \\left( - \\frac{d_{i}^2}{2\\sigma_t^2} \\right) $$\n",
    "\n",
    "Where $\\sigma_t$ is the neighbourhood radius at iteration $t$ as calculated above. \n",
    "\n",
    "Note: You will need to come up with an approach to x() and y().\n",
    "\n",
    "\n",
    "### Updating the Weights\n",
    "\n",
    "To update the weights of a given node, we use:\n",
    "\n",
    "$$W_{i_{t+1}} = W_{i_t} + \\alpha_t \\theta_t (V_t - W_{i_t})$$\n",
    "        \n",
    "So $W_{i_{t+1}}$ is the new value of the weight for the $i$th node, $V_t$ is the current value of the training data, $W_{i_t}$ is the current weight and $\\alpha_t$ and $\\theta_t$ are the learning rate and influence calculated above.\n",
    "\n",
    "*Note*: the $W$ and $V$ are vectors "
   ]
  },
  {
   "cell_type": "code",
   "execution_count": 1,
   "metadata": {},
   "outputs": [
    {
     "data": {
      "text/plain": [
       "array([[0.98590971, 0.13616059, 0.58981611],\n",
       "       [0.84489241, 0.9931208 , 0.81998964],\n",
       "       [0.16203105, 0.23488775, 0.98949612],\n",
       "       [0.45494857, 0.48735677, 0.87896296],\n",
       "       [0.41660618, 0.29978855, 0.20624588],\n",
       "       [0.05893632, 0.71106881, 0.77401571],\n",
       "       [0.14596078, 0.09202083, 0.08557581],\n",
       "       [0.74328869, 0.92252471, 0.35203201],\n",
       "       [0.17631706, 0.84609895, 0.22159417],\n",
       "       [0.99186991, 0.9659793 , 0.35367983]])"
      ]
     },
     "execution_count": 1,
     "metadata": {},
     "output_type": "execute_result"
    }
   ],
   "source": [
    "# Generate sample Data of 10 colours \n",
    "import numpy as np\n",
    "input_data = np.random.random((10,3))\n",
    "input_data"
   ]
  },
  {
   "cell_type": "markdown",
   "metadata": {},
   "source": [
    "### 1. Implement a Kohonen network\n",
    "- Use the above description to implement a Kohonen network\n",
    "- Make sure you can configure the size of the input vector and the size of the map\n",
    "- Make sure node's weights are initialized to random values"
   ]
  },
  {
   "cell_type": "code",
   "execution_count": 2,
   "metadata": {},
   "outputs": [],
   "source": [
    "# Implement the network...\n",
    "class SOM:\n",
    "    '''\n",
    "    Create a self organising map of size (width x height)  \n",
    "    \n",
    "    '''\n",
    "    def __init__(self, width, height):\n",
    "        self.width = width\n",
    "        self.height = height\n",
    "        self.init_radius = max(self.width,self.height)/2\n",
    "        self.node_weights = None\n",
    "        self.lambda_val = None\n",
    "        self.init_lr = None\n",
    "        self.trained = False\n",
    "        self.sum_dict = {}\n",
    "        self.opt = 0\n",
    "        \n",
    "    \n",
    "    def _populateSumDict(self):\n",
    "        for x in range(self.width):\n",
    "            for y in range(self.height):\n",
    "                self.sum_dict[(x, y)] = np.sqrt(x**2 + y**2)\n",
    "        \n",
    "    def fit(self, input_data, n_iters = 100, learning_rate = 0.1, opt = 0):\n",
    "        '''\n",
    "        Train the self organising map with the input data which is of the form (n x m) \n",
    "        where n = number of training examples\n",
    "              m = dimension/features of each training example\n",
    "        \n",
    "        Parameters:\n",
    "            input_data : input data \n",
    "            n_iters : number of iterations for which the training happens\n",
    "            learning_rate : learning rate of the algorithm (default value = 0.1) and gets \n",
    "                            exponentially decayed with each iteration\n",
    "            opt : optimization level for performance. Valid values are 0, 1, 2 and 3 which \n",
    "                  signify levels of optimizations\n",
    "        '''\n",
    "        #precompute the euclidean distance between nodes\n",
    "        self.opt = opt\n",
    "        if self.opt > 0 and self.opt < 3:\n",
    "            self._populateSumDict()\n",
    "            \n",
    "        #compute lambda and set initial learning rate\n",
    "        self.lambda_val = n_iters/np.log(self.init_radius)\n",
    "        self.init_lr = learning_rate\n",
    "        \n",
    "        #number of training samples\n",
    "        self.n = input_data.shape[0]\n",
    "        #dimension or number of features in each training sample vector\n",
    "        self.m = input_data.shape[1]\n",
    "        \n",
    "        #generate node weights randomly from uniform distribution between [0,1]\n",
    "        self.node_weights = np.random.random((self.width, self.height, self.m))\n",
    "               \n",
    "        #start training\n",
    "        for i in range(n_iters):\n",
    "            \n",
    "            # 1. Randomly select a current input vector \n",
    "            current_input = input_data[np.random.randint(0,self.n), :].reshape(np.array([self.m, 1]))\n",
    "            \n",
    "            # 2. Get BMU for this input vector\n",
    "            bmu, bmu_idx = self._findBMU(current_input)\n",
    "            \n",
    "            # 3. Decay radius and learning rate\n",
    "            r = self._decayRadius(i)\n",
    "            lr = self._decayLearningRate(i)\n",
    "            \n",
    "            # 4. Update the neighborhood\n",
    "            self._updateNeighborhood(current_input, bmu_idx, r, lr)\n",
    "            \n",
    "            \n",
    "        #training complete                    \n",
    "        self.trained = True\n",
    "    \n",
    "           \n",
    "    def getMapWeights(self):\n",
    "        '''\n",
    "        Return the weights of the nodes after training has finished\n",
    "        '''\n",
    "        if self.trained:\n",
    "            return self.node_weights\n",
    "        raise Exception(\"The SOM has not been trained yet. Run 'fit' method to train it\")\n",
    "    \n",
    "    def reset(self):\n",
    "        '''\n",
    "        Reset the trained map. However the size of the map does not change\n",
    "        '''\n",
    "        self.node_weights = None\n",
    "        self.lambda_val = None\n",
    "        self.init_lr = None\n",
    "        self.trained = False\n",
    "        self.sum_dict = {}\n",
    "                \n",
    "    def _updateNeighborhood(self, current_input, bmu_idx, r, lr):\n",
    "        \n",
    "        r_square = r**2\n",
    "        if self.opt > 2:\n",
    "            #generate 2D index array\n",
    "            idx_arr = np.indices((self.node_weights.shape[0], self.node_weights.shape[1])).transpose(1,2,0)\n",
    "            #vectorized computation\n",
    "            w_dist_arr = np.sqrt(np.sum((idx_arr - bmu_idx) ** 2, axis=2))\n",
    "            \n",
    "            # get all the indexes where the distance is within the radius\n",
    "            idx_arr_to_update = np.argwhere(w_dist_arr <= r)\n",
    "            \n",
    "            # update weights for the fitered 2D indices\n",
    "            for x,y in idx_arr_to_update:\n",
    "                    self._updateWeights(current_input, w_dist_arr[x][y], x, y, lr, r_square)\n",
    "                                                                \n",
    "        else:\n",
    "            #update the neighborhood of the node located at bmu_idx\n",
    "            for x in range(self.node_weights.shape[0]):\n",
    "                for y in range(self.node_weights.shape[1]):\n",
    "\n",
    "                    if self.opt > 0: \n",
    "                        k1 = abs(np.array([x, y]) - bmu_idx)[0]\n",
    "                        k2 = abs(np.array([x, y]) - bmu_idx)[1]\n",
    "                        w_dist = self.sum_dict[(k1,k2)]\n",
    "                                            \n",
    "                    else:\n",
    "                        # Get the euclidean distance\n",
    "                        w_dist = np.sqrt(np.sum((np.array([x, y]) - bmu_idx) ** 2))\n",
    "                    \n",
    "                        \n",
    "                    # Only update if the distance is within the current neighbourhood radius\n",
    "                    if w_dist <= r:\n",
    "                        self._updateWeights(current_input, w_dist, x, y, lr, r_square)\n",
    "                                                \n",
    "    \n",
    "    def _updateWeights(self, current_input, w_dist, x, y, lr, r_square):\n",
    "        #update the weights of the node indexed at x,y\n",
    "        \n",
    "        # Find weight vector\n",
    "        w = self.node_weights[x, y, :].reshape(self.m, 1)\n",
    "                    \n",
    "        # Calculate the degree of influence (based on the 2-D distance)\n",
    "        influence = self._getInfluence(w_dist, r_square)\n",
    "\n",
    "        # Update weight:\n",
    "        new_w = w + (lr * influence * (current_input - w))\n",
    "\n",
    "        # Update node with new weight\n",
    "        self.node_weights[x, y, :] = new_w.reshape(1, self.m)\n",
    "        \n",
    "        \n",
    "    def _findBMU(self, current_input):\n",
    "        #return the BMU node for the given input vector\n",
    "        #The BMU node is the one with minimum distance from the input vector\n",
    "        #also return the 2D index in the map of that BMU  \n",
    "        \n",
    "        if self.opt > 1:\n",
    "            \n",
    "            # use vectorized computation and numpy broadcasting to\n",
    "            # speed up the operation of \n",
    "            # computing distance between each node and the \n",
    "            # current_input vector\n",
    "            diff_arr = np.sum(((self.node_weights - current_input.flatten())**2), axis=2)\n",
    "            arg_min = np.argmin(diff_arr)\n",
    "            x = arg_min // self.node_weights.shape[0]\n",
    "            y = arg_min % self.node_weights.shape[1]\n",
    "            bmu_idx = (x, y)\n",
    "        \n",
    "        else:\n",
    "        \n",
    "            # a tuple to contain x and y coordinates\n",
    "            # of the BMU for the current input vector\n",
    "            bmu_idx = (0,0)\n",
    "\n",
    "            # Set the initial minimum difference to max int value\n",
    "            min_diff = np.iinfo(np.int).max\n",
    "\n",
    " \n",
    "            for x in range (self.node_weights.shape[0]):\n",
    "                for y in range(self.node_weights.shape[1]):\n",
    "                    w = self.node_weights[x,y,:].reshape(self.m, 1)\n",
    "                \n",
    "                    if self.opt > 0:\n",
    "                        #avoid sqrt as we are simply comparing distances\n",
    "                        diff = np.sum((w - current_input) ** 2)\n",
    "                \n",
    "                    else:\n",
    "                        #euclidean distance\n",
    "                        diff = np.sqrt(np.sum((w - current_input) ** 2))\n",
    "                \n",
    "                \n",
    "                    #set min_diff if diff is less than min_diff so far\n",
    "                    #also set the bmu 2D index \n",
    "                    if (diff < min_diff):\n",
    "                        min_diff = diff\n",
    "                        bmu_idx = (x, y)\n",
    "                    \n",
    "        \n",
    "        bmu = self.node_weights[bmu_idx[0], bmu_idx[1], :].reshape(self.m, 1)\n",
    "\n",
    "        return bmu, np.asarray(bmu_idx)\n",
    "    \n",
    "    def _decayRadius(self, iter_num):\n",
    "        # decay the radius exponentially based on given iteration\n",
    "        # and initial radius and constant lambda value\n",
    "        return self.init_radius * np.exp(-iter_num / self.lambda_val)\n",
    "    \n",
    "    def _decayLearningRate(self, iter_num):\n",
    "        # decay the learning rate exponentially based on given iteration\n",
    "        # and initial learning rate and constant lambda value\n",
    "        return self.init_lr * np.exp(-iter_num / self.lambda_val)\n",
    "    \n",
    "    def _getInfluence(self, distance, radius_square):\n",
    "        # generate the influence based on the given distance\n",
    "        # and the current radius(which is determined by the current iteration)\n",
    "        return np.exp(-(distance**2) / (2* (radius_square)))\n",
    "        \n",
    "        \n",
    "    def genImage(self):\n",
    "        '''\n",
    "        Create an RGB image using the node weight matrix.\n",
    "\n",
    "        node weights will be scaled to lie in [lower, upper], where\n",
    "        lower (upper) is the global lower (upper) bound of all values in each of the\n",
    "        dimension of node_weight matrix\n",
    "\n",
    "        Returns an Image object\n",
    "        '''\n",
    "        upper = -np.inf\n",
    "        lower = np.inf\n",
    "        layers = (0, 1, 2)\n",
    "        for i in layers:\n",
    "            v = self.node_weights[:, :, i]\n",
    "            lower = min(lower, v.min())\n",
    "            upper = max(upper, v.max())\n",
    "        \n",
    "        from PIL import Image\n",
    "        ratios = (self.node_weights - lower) / (upper - lower)\n",
    "        img = Image.fromarray(np.array(256 * ratios, np.uint8), 'RGB')\n",
    "        img.lower_bound = lower\n",
    "        img.upper_bound = upper\n",
    "        return img\n",
    "        \n",
    "        "
   ]
  },
  {
   "cell_type": "markdown",
   "metadata": {},
   "source": [
    "### 2. Train a 10x10 network over 100 iterations\n",
    "\n",
    "- Training data is a random set of 20 colours\n",
    "- How long does this take?\n",
    "- What does the map look like? (You will need to translate the weights of each node in the map to pixel data)\n",
    "- What does this look like if you perform 200 & 500 iterations?\n",
    "\n"
   ]
  },
  {
   "cell_type": "code",
   "execution_count": 3,
   "metadata": {},
   "outputs": [],
   "source": [
    "import matplotlib.pyplot as plt"
   ]
  },
  {
   "cell_type": "code",
   "execution_count": 4,
   "metadata": {},
   "outputs": [],
   "source": [
    "input_data = np.random.random((20,3))\n",
    "#create a 10x10 network\n",
    "som = SOM(10, 10)"
   ]
  },
  {
   "cell_type": "code",
   "execution_count": 5,
   "metadata": {},
   "outputs": [
    {
     "name": "stdout",
     "output_type": "stream",
     "text": [
      "CPU times: user 952 ms, sys: 23.9 ms, total: 976 ms\n",
      "Wall time: 925 ms\n"
     ]
    }
   ],
   "source": [
    "%time som.fit(input_data, n_iters=500)"
   ]
  },
  {
   "cell_type": "code",
   "execution_count": 6,
   "metadata": {},
   "outputs": [],
   "source": [
    "#Get the trained node weights\n",
    "#trained_map = som.getMap()\n",
    "image_data = som.genImage()"
   ]
  },
  {
   "cell_type": "code",
   "execution_count": 7,
   "metadata": {},
   "outputs": [
    {
     "data": {
      "text/plain": [
       "<matplotlib.image.AxesImage at 0x7f1c9b3b8240>"
      ]
     },
     "execution_count": 7,
     "metadata": {},
     "output_type": "execute_result"
    },
    {
     "data": {
      "image/png": "[encoded data removed]",
      "text/plain": [
       "<Figure size 432x288 with 1 Axes>"
      ]
     },
     "metadata": {
      "needs_background": "light"
     },
     "output_type": "display_data"
    }
   ],
   "source": [
    "#The 10x10 SOM after 500 iterations\n",
    "plt.imshow(image_data)"
   ]
  },
  {
   "cell_type": "markdown",
   "metadata": {},
   "source": [
    "### 3. Train a 100x100 network over 1000 iterations\n",
    "\n",
    "- This network will likely be significantly slower to train\n",
    "- What could you do to improve performance?\n",
    "- What does the network look like after 1000 iterations?\n",
    "\n"
   ]
  },
  {
   "cell_type": "code",
   "execution_count": 8,
   "metadata": {},
   "outputs": [
    {
     "name": "stdout",
     "output_type": "stream",
     "text": [
      "CPU times: user 3min 7s, sys: 27.9 ms, total: 3min 7s\n",
      "Wall time: 3min 7s\n"
     ]
    }
   ],
   "source": [
    "#create a 100x100 network\n",
    "som_100 = SOM(100, 100)\n",
    "%time som_100.fit(input_data, n_iters=1000)"
   ]
  },
  {
   "cell_type": "code",
   "execution_count": 9,
   "metadata": {},
   "outputs": [
    {
     "data": {
      "text/plain": [
       "<matplotlib.image.AxesImage at 0x7f1c5f73b908>"
      ]
     },
     "execution_count": 9,
     "metadata": {},
     "output_type": "execute_result"
    },
    {
     "data": {
      "image/png": "[encoded data removed]",
      "text/plain": [
       "<Figure size 432x288 with 1 Axes>"
      ]
     },
     "metadata": {
      "needs_background": "light"
     },
     "output_type": "display_data"
    }
   ],
   "source": [
    "image_data_100 = som_100.genImage()\n",
    "plt.imshow(image_data_100)"
   ]
  },
  {
   "cell_type": "markdown",
   "metadata": {},
   "source": [
    "### Lets profile the code to see which functions are consuming the most time\n",
    "#### Take a 100x100 map and run it for 100 iterations\n"
   ]
  },
  {
   "cell_type": "code",
   "execution_count": 10,
   "metadata": {},
   "outputs": [
    {
     "name": "stdout",
     "output_type": "stream",
     "text": [
      "         20318893 function calls in 89.112 seconds\n",
      "\n",
      "   Ordered by: standard name\n",
      "\n",
      "   ncalls  tottime  percall  cumtime  percall filename:lineno(function)\n",
      "  1000200    3.309    0.000    3.309    0.000 :0(array)\n",
      "        1    0.000    0.000   89.112   89.112 :0(exec)\n",
      "  2000000    6.563    0.000   50.836    0.000 :0(implement_array_function)\n",
      "  2000000    3.251    0.000    3.251    0.000 :0(isinstance)\n",
      "      300    0.001    0.000    0.001    0.000 :0(issubclass)\n",
      "  2000000    3.184    0.000    3.184    0.000 :0(items)\n",
      "        1    0.000    0.000    0.000    0.000 :0(max)\n",
      "      100    0.003    0.000    0.007    0.000 :0(randint)\n",
      "        2    0.002    0.001    0.002    0.001 :0(random)\n",
      "  2000000    9.334    0.000    9.334    0.000 :0(reduce)\n",
      "  1158692    2.578    0.000    2.578    0.000 :0(reshape)\n",
      "        1    0.000    0.000    0.000    0.000 :0(setprofile)\n",
      "  2000000    8.918    0.000   62.504    0.000 <__array_function__ internals>:2(sum)\n",
      "    79246    0.985    0.000    1.678    0.000 <ipython-input-2-d4d31bf3700a>:133(_updateWeights)\n",
      "      100    9.846    0.098   43.528    0.435 <ipython-input-2-d4d31bf3700a>:149(_findBMU)\n",
      "      100    0.001    0.000    0.001    0.000 <ipython-input-2-d4d31bf3700a>:200(_decayRadius)\n",
      "      100    0.000    0.000    0.000    0.000 <ipython-input-2-d4d31bf3700a>:205(_decayLearningRate)\n",
      "    79246    0.376    0.000    0.376    0.000 <ipython-input-2-d4d31bf3700a>:210(_getInfluence)\n",
      "        1    0.003    0.003   89.112   89.112 <ipython-input-2-d4d31bf3700a>:24(fit)\n",
      "        1    0.000    0.000    0.000    0.000 <ipython-input-2-d4d31bf3700a>:7(__init__)\n",
      "      100    9.499    0.095   45.569    0.456 <ipython-input-2-d4d31bf3700a>:97(_updateNeighborhood)\n",
      "        1    0.000    0.000   89.112   89.112 <string>:1(<module>)\n",
      "      100    0.000    0.000    0.001    0.000 _asarray.py:16(asarray)\n",
      "      100    0.001    0.000    0.004    0.000 _dtype.py:319(_name_get)\n",
      "  2000000    2.750    0.000    2.750    0.000 fromnumeric.py:2040(_sum_dispatcher)\n",
      "  2000000   10.842    0.000   44.273    0.000 fromnumeric.py:2045(sum)\n",
      "  2000000   14.099    0.000   30.179    0.000 fromnumeric.py:73(_wrapreduction)\n",
      "  2000000    3.562    0.000    3.562    0.000 fromnumeric.py:74(<dictcomp>)\n",
      "      100    0.001    0.000    0.001    0.000 getlimits.py:497(__init__)\n",
      "      100    0.000    0.000    0.000    0.000 getlimits.py:521(max)\n",
      "      200    0.001    0.000    0.001    0.000 numerictypes.py:293(issubclass_)\n",
      "      100    0.001    0.000    0.003    0.000 numerictypes.py:365(issubdtype)\n",
      "        1    0.000    0.000   89.112   89.112 profile:0(input_data=np.random.random((20,3)); som = SOM(100,100);              som.fit(input_data, n_iters=100);print)\n",
      "        0    0.000             0.000          profile:0(profiler)\n",
      "\n",
      "\n"
     ]
    }
   ],
   "source": [
    "import profile\n",
    "profile.run('input_data=np.random.random((20,3)); som = SOM(100,100); \\\n",
    "             som.fit(input_data, n_iters=100);print')"
   ]
  },
  {
   "cell_type": "markdown",
   "metadata": {},
   "source": [
    "#### Profiling shows that a lot of time is being spent in function sum which is being called 2M times!\n",
    "One optimization that can be done is to precompute the computation done at 'Update Neighborhood' step.\n",
    "Here a simple distance between nodes is being computed again & again. \n",
    "This information can be precomputed at the beginning for the entire 2D array\n",
    "In the code populateSumDict() function does this and uses this info during the 'Update Neighborhood' step."
   ]
  },
  {
   "cell_type": "code",
   "execution_count": 11,
   "metadata": {},
   "outputs": [
    {
     "name": "stdout",
     "output_type": "stream",
     "text": [
      "         14270518 function calls in 63.410 seconds\n",
      "\n",
      "   Ordered by: standard name\n",
      "\n",
      "   ncalls  tottime  percall  cumtime  percall filename:lineno(function)\n",
      "  2000000    4.503    0.000    4.503    0.000 :0(abs)\n",
      "  2000200    5.447    0.000    5.447    0.000 :0(array)\n",
      "        1    0.000    0.000   63.410   63.410 :0(exec)\n",
      "  1000000    3.300    0.000   25.523    0.000 :0(implement_array_function)\n",
      "  1000000    1.632    0.000    1.632    0.000 :0(isinstance)\n",
      "      300    0.001    0.000    0.001    0.000 :0(issubclass)\n",
      "  1000000    1.593    0.000    1.593    0.000 :0(items)\n",
      "        1    0.000    0.000    0.000    0.000 :0(max)\n",
      "      100    0.003    0.000    0.007    0.000 :0(randint)\n",
      "        2    0.000    0.000    0.000    0.000 :0(random)\n",
      "  1000000    4.733    0.000    4.733    0.000 :0(reduce)\n",
      "  1134504    2.434    0.000    2.434    0.000 :0(reshape)\n",
      "        1    0.000    0.000    0.000    0.000 :0(setprofile)\n",
      "  1000000    4.436    0.000   31.341    0.000 <__array_function__ internals>:2(sum)\n",
      "    67152    0.780    0.000    1.322    0.000 <ipython-input-2-d4d31bf3700a>:133(_updateWeights)\n",
      "      100    7.527    0.075   41.055    0.411 <ipython-input-2-d4d31bf3700a>:149(_findBMU)\n",
      "        1    0.043    0.043    0.043    0.043 <ipython-input-2-d4d31bf3700a>:19(_populateSumDict)\n",
      "      100    0.001    0.000    0.001    0.000 <ipython-input-2-d4d31bf3700a>:200(_decayRadius)\n",
      "      100    0.000    0.000    0.000    0.000 <ipython-input-2-d4d31bf3700a>:205(_decayLearningRate)\n",
      "    67152    0.293    0.000    0.293    0.000 <ipython-input-2-d4d31bf3700a>:210(_getInfluence)\n",
      "        1    0.003    0.003   63.409   63.409 <ipython-input-2-d4d31bf3700a>:24(fit)\n",
      "        1    0.000    0.000    0.000    0.000 <ipython-input-2-d4d31bf3700a>:7(__init__)\n",
      "      100   11.028    0.110   22.299    0.223 <ipython-input-2-d4d31bf3700a>:97(_updateNeighborhood)\n",
      "        1    0.000    0.000   63.410   63.410 <string>:1(<module>)\n",
      "      100    0.000    0.000    0.001    0.000 _asarray.py:16(asarray)\n",
      "      100    0.001    0.000    0.003    0.000 _dtype.py:319(_name_get)\n",
      "  1000000    1.382    0.000    1.382    0.000 fromnumeric.py:2040(_sum_dispatcher)\n",
      "  1000000    5.472    0.000   22.223    0.000 fromnumeric.py:2045(sum)\n",
      "  1000000    7.003    0.000   15.119    0.000 fromnumeric.py:73(_wrapreduction)\n",
      "  1000000    1.790    0.000    1.790    0.000 fromnumeric.py:74(<dictcomp>)\n",
      "      100    0.001    0.000    0.001    0.000 getlimits.py:497(__init__)\n",
      "      100    0.000    0.000    0.000    0.000 getlimits.py:521(max)\n",
      "      200    0.001    0.000    0.001    0.000 numerictypes.py:293(issubclass_)\n",
      "      100    0.001    0.000    0.002    0.000 numerictypes.py:365(issubdtype)\n",
      "        1    0.000    0.000   63.410   63.410 profile:0(input_data=np.random.random((20,3)); som = SOM(100,100);              som.fit(input_data, n_iters=100, opt=1);print)\n",
      "        0    0.000             0.000          profile:0(profiler)\n",
      "\n",
      "\n"
     ]
    }
   ],
   "source": [
    "#Lets profile the code again with this optimization which is turned on with opt = 1 value\n",
    "profile.run('input_data=np.random.random((20,3)); som = SOM(100,100); \\\n",
    "             som.fit(input_data, n_iters=100, opt=1);print')"
   ]
  },
  {
   "cell_type": "markdown",
   "metadata": {},
   "source": [
    "#### The optimization results in 50% less sum calls. There are 1M sum calls now\n"
   ]
  },
  {
   "cell_type": "markdown",
   "metadata": {},
   "source": [
    "#### _findBMU() function takes 2/3 of the total time. This function can be optimized by utilizing vectorized computation to compute the np.sum() for the entire 2D node map in parallel. This is enabled through opt = 2\n"
   ]
  },
  {
   "cell_type": "code",
   "execution_count": 12,
   "metadata": {},
   "outputs": [
    {
     "name": "stdout",
     "output_type": "stream",
     "text": [
      "         4288442 function calls in 22.293 seconds\n",
      "\n",
      "   Ordered by: standard name\n",
      "\n",
      "   ncalls  tottime  percall  cumtime  percall filename:lineno(function)\n",
      "  2000000    4.383    0.000    4.383    0.000 :0(abs)\n",
      "      100    0.001    0.000    0.001    0.000 :0(argmin)\n",
      "  2000200    5.371    0.000    5.371    0.000 :0(array)\n",
      "        1    0.000    0.000   22.293   22.293 :0(exec)\n",
      "      100    0.001    0.000    0.001    0.000 :0(flatten)\n",
      "      100    0.000    0.000    0.000    0.000 :0(getattr)\n",
      "      200    0.001    0.000    0.018    0.000 :0(implement_array_function)\n",
      "      100    0.000    0.000    0.000    0.000 :0(isinstance)\n",
      "      300    0.001    0.000    0.001    0.000 :0(issubclass)\n",
      "      100    0.000    0.000    0.000    0.000 :0(items)\n",
      "        1    0.000    0.000    0.000    0.000 :0(max)\n",
      "      100    0.003    0.000    0.006    0.000 :0(randint)\n",
      "        2    0.001    0.000    0.001    0.000 :0(random)\n",
      "      100    0.012    0.000    0.012    0.000 :0(reduce)\n",
      "   142716    0.296    0.000    0.296    0.000 :0(reshape)\n",
      "        1    0.000    0.000    0.000    0.000 :0(setprofile)\n",
      "      100    0.000    0.000    0.003    0.000 <__array_function__ internals>:2(argmin)\n",
      "      100    0.001    0.000    0.016    0.000 <__array_function__ internals>:2(sum)\n",
      "    71258    0.897    0.000    1.556    0.000 <ipython-input-2-d4d31bf3700a>:133(_updateWeights)\n",
      "      100    0.011    0.000    0.032    0.000 <ipython-input-2-d4d31bf3700a>:149(_findBMU)\n",
      "        1    0.036    0.036    0.036    0.036 <ipython-input-2-d4d31bf3700a>:19(_populateSumDict)\n",
      "      100    0.001    0.000    0.001    0.000 <ipython-input-2-d4d31bf3700a>:200(_decayRadius)\n",
      "      100    0.000    0.000    0.000    0.000 <ipython-input-2-d4d31bf3700a>:205(_decayLearningRate)\n",
      "    71258    0.363    0.000    0.363    0.000 <ipython-input-2-d4d31bf3700a>:210(_getInfluence)\n",
      "        1    0.003    0.003   22.290   22.290 <ipython-input-2-d4d31bf3700a>:24(fit)\n",
      "        1    0.000    0.000    0.000    0.000 <ipython-input-2-d4d31bf3700a>:7(__init__)\n",
      "      100   10.900    0.109   22.210    0.222 <ipython-input-2-d4d31bf3700a>:97(_updateNeighborhood)\n",
      "        1    0.003    0.003   22.293   22.293 <string>:1(<module>)\n",
      "      100    0.000    0.000    0.001    0.000 _asarray.py:16(asarray)\n",
      "      100    0.001    0.000    0.003    0.000 _dtype.py:319(_name_get)\n",
      "      100    0.000    0.000    0.000    0.000 fromnumeric.py:1156(_argmin_dispatcher)\n",
      "      100    0.000    0.000    0.002    0.000 fromnumeric.py:1160(argmin)\n",
      "      100    0.000    0.000    0.000    0.000 fromnumeric.py:2040(_sum_dispatcher)\n",
      "      100    0.001    0.000    0.015    0.000 fromnumeric.py:2045(sum)\n",
      "      100    0.001    0.000    0.002    0.000 fromnumeric.py:55(_wrapfunc)\n",
      "      100    0.001    0.000    0.014    0.000 fromnumeric.py:73(_wrapreduction)\n",
      "      100    0.000    0.000    0.000    0.000 fromnumeric.py:74(<dictcomp>)\n",
      "      200    0.001    0.000    0.001    0.000 numerictypes.py:293(issubclass_)\n",
      "      100    0.001    0.000    0.002    0.000 numerictypes.py:365(issubdtype)\n",
      "        1    0.000    0.000   22.293   22.293 profile:0(input_data=np.random.random((20,3)); som = SOM(100,100);              som.fit(input_data, n_iters=100, opt=2);print)\n",
      "        0    0.000             0.000          profile:0(profiler)\n",
      "\n",
      "\n"
     ]
    }
   ],
   "source": [
    "#Lets profile the code again with this optimization which is turned on with opt = 2 value\n",
    "profile.run('input_data=np.random.random((20,3)); som = SOM(100,100); \\\n",
    "             som.fit(input_data, n_iters=100, opt=2);print')"
   ]
  },
  {
   "cell_type": "code",
   "execution_count": 13,
   "metadata": {},
   "outputs": [
    {
     "name": "stdout",
     "output_type": "stream",
     "text": [
      "CPU times: user 50.4 s, sys: 27.1 ms, total: 50.4 s\n",
      "Wall time: 50.4 s\n"
     ]
    }
   ],
   "source": [
    "#Let's run for full 1000 iterations \n",
    "som_100_opt = SOM(100, 100)\n",
    "%time som_100_opt.fit(input_data, n_iters=1000,  opt=2)"
   ]
  },
  {
   "cell_type": "markdown",
   "metadata": {},
   "source": [
    "#### So with couple of optimizations the runtime has reduced to 50.4s from 187s which is almost 4X speed up!!\n",
    "#### Now the bottleneck function is _updateNeighborhood. We can try to vectorize that as well. This is enabled through opt = 3"
   ]
  },
  {
   "cell_type": "code",
   "execution_count": 14,
   "metadata": {
    "scrolled": true
   },
   "outputs": [
    {
     "name": "stdout",
     "output_type": "stream",
     "text": [
      "         272542 function calls (272342 primitive calls) in 1.521 seconds\n",
      "\n",
      "   Ordered by: standard name\n",
      "\n",
      "   ncalls  tottime  percall  cumtime  percall filename:lineno(function)\n",
      "      200    0.001    0.000    0.001    0.000 :0(arange)\n",
      "      100    0.001    0.000    0.001    0.000 :0(argmin)\n",
      "      300    0.001    0.000    0.001    0.000 :0(array)\n",
      "      100    0.000    0.000    0.000    0.000 :0(empty)\n",
      "        1    0.000    0.000    1.521    1.521 :0(exec)\n",
      "      100    0.000    0.000    0.000    0.000 :0(flatten)\n",
      "      400    0.001    0.000    0.001    0.000 :0(getattr)\n",
      "  600/400    0.002    0.000    0.028    0.000 :0(implement_array_function)\n",
      "      200    0.000    0.000    0.000    0.000 :0(isinstance)\n",
      "      300    0.001    0.000    0.001    0.000 :0(issubclass)\n",
      "      200    0.000    0.000    0.000    0.000 :0(items)\n",
      "      100    0.000    0.000    0.000    0.000 :0(len)\n",
      "        1    0.000    0.000    0.000    0.000 :0(max)\n",
      "      100    0.002    0.000    0.002    0.000 :0(nonzero)\n",
      "      100    0.002    0.000    0.005    0.000 :0(randint)\n",
      "        2    0.000    0.000    0.000    0.000 :0(random)\n",
      "      200    0.013    0.000    0.013    0.000 :0(reduce)\n",
      "   133016    0.224    0.000    0.224    0.000 :0(reshape)\n",
      "        1    0.000    0.000    0.000    0.000 :0(setprofile)\n",
      "      200    0.000    0.000    0.000    0.000 :0(transpose)\n",
      "      100    0.000    0.000    0.003    0.000 <__array_function__ internals>:2(argmin)\n",
      "      100    0.000    0.000    0.009    0.000 <__array_function__ internals>:2(argwhere)\n",
      "      100    0.000    0.000    0.004    0.000 <__array_function__ internals>:2(nonzero)\n",
      "      200    0.001    0.000    0.019    0.000 <__array_function__ internals>:2(sum)\n",
      "      100    0.000    0.000    0.004    0.000 <__array_function__ internals>:2(transpose)\n",
      "    66308    0.678    0.000    1.172    0.000 <ipython-input-2-d4d31bf3700a>:133(_updateWeights)\n",
      "      100    0.008    0.000    0.026    0.000 <ipython-input-2-d4d31bf3700a>:149(_findBMU)\n",
      "        1    0.036    0.036    0.036    0.036 <ipython-input-2-d4d31bf3700a>:19(_populateSumDict)\n",
      "      100    0.001    0.000    0.001    0.000 <ipython-input-2-d4d31bf3700a>:200(_decayRadius)\n",
      "      100    0.000    0.000    0.000    0.000 <ipython-input-2-d4d31bf3700a>:205(_decayLearningRate)\n",
      "    66308    0.271    0.000    0.271    0.000 <ipython-input-2-d4d31bf3700a>:210(_getInfluence)\n",
      "        1    0.002    0.002    1.518    1.518 <ipython-input-2-d4d31bf3700a>:24(fit)\n",
      "        1    0.000    0.000    0.000    0.000 <ipython-input-2-d4d31bf3700a>:7(__init__)\n",
      "      100    0.257    0.003    1.447    0.014 <ipython-input-2-d4d31bf3700a>:97(_updateNeighborhood)\n",
      "        1    0.003    0.003    1.521    1.521 <string>:1(<module>)\n",
      "      200    0.001    0.000    0.002    0.000 _asarray.py:16(asarray)\n",
      "      100    0.001    0.000    0.003    0.000 _dtype.py:319(_name_get)\n",
      "      100    0.000    0.000    0.000    0.000 fromnumeric.py:1156(_argmin_dispatcher)\n",
      "      100    0.000    0.000    0.002    0.000 fromnumeric.py:1160(argmin)\n",
      "      100    0.000    0.000    0.000    0.000 fromnumeric.py:1755(_nonzero_dispatcher)\n",
      "      100    0.000    0.000    0.003    0.000 fromnumeric.py:1759(nonzero)\n",
      "      200    0.000    0.000    0.000    0.000 fromnumeric.py:2040(_sum_dispatcher)\n",
      "      200    0.001    0.000    0.017    0.000 fromnumeric.py:2045(sum)\n",
      "      100    0.001    0.000    0.002    0.000 fromnumeric.py:42(_wrapit)\n",
      "      300    0.001    0.000    0.007    0.000 fromnumeric.py:55(_wrapfunc)\n",
      "      100    0.000    0.000    0.000    0.000 fromnumeric.py:599(_transpose_dispatcher)\n",
      "      100    0.000    0.000    0.003    0.000 fromnumeric.py:603(transpose)\n",
      "      200    0.002    0.000    0.015    0.000 fromnumeric.py:73(_wrapreduction)\n",
      "      200    0.000    0.000    0.000    0.000 fromnumeric.py:74(<dictcomp>)\n",
      "      100    0.002    0.000    0.004    0.000 numeric.py:1618(indices)\n",
      "      100    0.000    0.000    0.000    0.000 numeric.py:540(_argwhere_dispatcher)\n",
      "      100    0.001    0.000    0.008    0.000 numeric.py:544(argwhere)\n",
      "      200    0.001    0.000    0.001    0.000 numerictypes.py:293(issubclass_)\n",
      "      100    0.001    0.000    0.002    0.000 numerictypes.py:365(issubdtype)\n",
      "        1    0.000    0.000    1.521    1.521 profile:0(input_data=np.random.random((20,3)); som = SOM(100,100);              som.fit(input_data, n_iters=100, opt=3);print)\n",
      "        0    0.000             0.000          profile:0(profiler)\n",
      "\n",
      "\n"
     ]
    }
   ],
   "source": [
    "#Lets profile the code again with this optimization which is turned on with opt = 2 value\n",
    "profile.run('input_data=np.random.random((20,3)); som = SOM(100,100); \\\n",
    "             som.fit(input_data, n_iters=100, opt=3);print')"
   ]
  },
  {
   "cell_type": "code",
   "execution_count": 15,
   "metadata": {},
   "outputs": [
    {
     "name": "stdout",
     "output_type": "stream",
     "text": [
      "CPU times: user 5.08 s, sys: 15.3 ms, total: 5.1 s\n",
      "Wall time: 5.08 s\n"
     ]
    }
   ],
   "source": [
    "#Let's run for full 1000 iterations \n",
    "som_100_opt = SOM(100, 100)\n",
    "%time som_100_opt.fit(input_data, n_iters=1000,  opt=3)"
   ]
  },
  {
   "cell_type": "markdown",
   "metadata": {},
   "source": [
    "#### This results in a speed up of  ~40X !! From 187s to 5s"
   ]
  },
  {
   "cell_type": "code",
   "execution_count": 16,
   "metadata": {},
   "outputs": [
    {
     "data": {
      "text/plain": [
       "<matplotlib.image.AxesImage at 0x7f1c5f564c18>"
      ]
     },
     "execution_count": 16,
     "metadata": {},
     "output_type": "execute_result"
    },
    {
     "data": {
      "image/png": "[encoded data removed]",
      "text/plain": [
       "<Figure size 432x288 with 1 Axes>"
      ]
     },
     "metadata": {
      "needs_background": "light"
     },
     "output_type": "display_data"
    }
   ],
   "source": [
    "#plot the trained network\n",
    "image_data_100_opt = som_100_opt.genImage()\n",
    "plt.imshow(image_data_100_opt)"
   ]
  },
  {
   "cell_type": "code",
   "execution_count": 17,
   "metadata": {},
   "outputs": [
    {
     "name": "stdout",
     "output_type": "stream",
     "text": [
      "CPU times: user 24 s, sys: 28.8 ms, total: 24.1 s\n",
      "Wall time: 24 s\n"
     ]
    }
   ],
   "source": [
    "#Let's run for  5000 iterations \n",
    "som_100_opt = SOM(100, 100)\n",
    "%time som_100_opt.fit(input_data, n_iters=5000,  opt=3)"
   ]
  },
  {
   "cell_type": "markdown",
   "metadata": {},
   "source": [
    "#### It is scaling linearly too as the time taken in executing 5000 iterations is almost 5 times the time taken for 1000 iterations"
   ]
  },
  {
   "cell_type": "code",
   "execution_count": 19,
   "metadata": {},
   "outputs": [
    {
     "data": {
      "text/plain": [
       "<matplotlib.image.AxesImage at 0x7f1c5f417470>"
      ]
     },
     "execution_count": 19,
     "metadata": {},
     "output_type": "execute_result"
    },
    {
     "data": {
      "image/png": "[encoded data removed]",
      "text/plain": [
       "<Figure size 432x288 with 1 Axes>"
      ]
     },
     "metadata": {
      "needs_background": "light"
     },
     "output_type": "display_data"
    }
   ],
   "source": [
    "#much smoother image obtained after training for 5000 iterations\n",
    "image_data_opt = som_100_opt.genImage()\n",
    "plt.imshow(image_data_opt)\n"
   ]
  },
  {
   "cell_type": "code",
   "execution_count": null,
   "metadata": {},
   "outputs": [],
   "source": []
  }
 ],
 "metadata": {
  "kernelspec": {
   "display_name": "Python 3",
   "language": "python",
   "name": "python3"
  },
  "language_info": {
   "codemirror_mode": {
    "name": "ipython",
    "version": 3
   },
   "file_extension": ".py",
   "mimetype": "text/x-python",
   "name": "python",
   "nbconvert_exporter": "python",
   "pygments_lexer": "ipython3",
   "version": "3.6.8"
  }
 },
 "nbformat": 4,
 "nbformat_minor": 2
}
